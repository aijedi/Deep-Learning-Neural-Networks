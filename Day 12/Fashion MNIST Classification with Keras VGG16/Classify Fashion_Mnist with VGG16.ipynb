{
 "cells": [
  {
   "cell_type": "markdown",
   "metadata": {
    "_cell_guid": "0fd216d4-dd9f-4c8f-9292-df9aa7c17aca",
    "_uuid": "1c70132a25ea771c9caaa6b9dbfd2d65955be21d"
   },
   "source": [
    "**Experimentation on Fashion Mnist with VGG16**\n",
    "To demonstrate\n",
    "1) Converting images with 1 channel to 3 channels\n",
    "2) Resizing the images\n",
    "3) Using VGG16 base model, appending with other layers and extracting features\n",
    "4) Reduce learning, early stopping in callback methods"
   ]
  },
  {
   "cell_type": "code",
   "execution_count": 1,
   "metadata": {
    "_cell_guid": "b1076dfc-b9ad-4769-8c92-a6c4dae69d19",
    "_uuid": "8f2839f25d086af736a60e9eeb907d3b93b6e0e5",
    "scrolled": true
   },
   "outputs": [
    {
     "name": "stderr",
     "output_type": "stream",
     "text": [
      "Using TensorFlow backend.\n"
     ]
    }
   ],
   "source": [
    "import warnings\n",
    "warnings.filterwarnings('ignore')\n",
    "\n",
    "import numpy as np # linear algebra\n",
    "import pandas as pd # data processing, CSV file I/O (e.g. pd.read_csv)\n",
    "import os, time\n",
    "import matplotlib.pyplot as plt\n",
    "#from keras.datasets import fashion_mnist\n",
    "from sklearn.model_selection import train_test_split\n",
    "import keras\n",
    "from keras.utils import to_categorical\n",
    "from keras.models import Sequential\n",
    "from keras.layers import Conv2D, MaxPooling2D\n",
    "from keras.layers import Dense, Dropout, Flatten\n",
    "#from keras.layers.advanced_activations import LeakyReLU\n",
    "from keras.preprocessing.image import ImageDataGenerator\n",
    "from keras.applications import VGG16;\n",
    "from keras.applications.vgg16 import preprocess_input\n",
    "import os"
   ]
  },
  {
   "cell_type": "code",
   "execution_count": 2,
   "metadata": {
    "_cell_guid": "79c7e3d0-c299-4dcb-8224-4455121ee9b0",
    "_uuid": "d629ff2d2480ee46fbb7e2d37f6b5fab8052498a"
   },
   "outputs": [],
   "source": [
    "# Read csv data files\n",
    "train_data = pd.read_csv('data/fashion-mnist_train.csv')\n",
    "test_data = pd.read_csv('data/fashion-mnist_test.csv')"
   ]
  },
  {
   "cell_type": "code",
   "execution_count": 3,
   "metadata": {
    "_cell_guid": "7e89d01e-7dcb-4679-8682-f0901f7acbeb",
    "_uuid": "67003184dbfdac55a3cb8633c25bd38edafd6276"
   },
   "outputs": [],
   "source": [
    "train_data.shape #(60,000*785)\n",
    "test_data.shape #(10000,785)\n",
    "train_X= np.array(train_data.iloc[:,1:])\n",
    "test_X= np.array(test_data.iloc[:,1:])\n",
    "train_Y= np.array (train_data.iloc[:,0]) # (60000,)\n",
    "test_Y = np.array(test_data.iloc[:,0]) #(10000,)"
   ]
  },
  {
   "cell_type": "code",
   "execution_count": 4,
   "metadata": {
    "_cell_guid": "108ad2b4-7aa5-4bd1-bdef-f6e3ceed9f31",
    "_uuid": "25e392915c2cdb4b7fef6199c2747db6bfa7ab2d"
   },
   "outputs": [
    {
     "data": {
      "text/html": [
       "<div>\n",
       "<style scoped>\n",
       "    .dataframe tbody tr th:only-of-type {\n",
       "        vertical-align: middle;\n",
       "    }\n",
       "\n",
       "    .dataframe tbody tr th {\n",
       "        vertical-align: top;\n",
       "    }\n",
       "\n",
       "    .dataframe thead th {\n",
       "        text-align: right;\n",
       "    }\n",
       "</style>\n",
       "<table border=\"1\" class=\"dataframe\">\n",
       "  <thead>\n",
       "    <tr style=\"text-align: right;\">\n",
       "      <th></th>\n",
       "      <th>label</th>\n",
       "      <th>pixel1</th>\n",
       "      <th>pixel2</th>\n",
       "      <th>pixel3</th>\n",
       "      <th>pixel4</th>\n",
       "      <th>pixel5</th>\n",
       "      <th>pixel6</th>\n",
       "      <th>pixel7</th>\n",
       "      <th>pixel8</th>\n",
       "      <th>pixel9</th>\n",
       "      <th>...</th>\n",
       "      <th>pixel775</th>\n",
       "      <th>pixel776</th>\n",
       "      <th>pixel777</th>\n",
       "      <th>pixel778</th>\n",
       "      <th>pixel779</th>\n",
       "      <th>pixel780</th>\n",
       "      <th>pixel781</th>\n",
       "      <th>pixel782</th>\n",
       "      <th>pixel783</th>\n",
       "      <th>pixel784</th>\n",
       "    </tr>\n",
       "  </thead>\n",
       "  <tbody>\n",
       "    <tr>\n",
       "      <th>0</th>\n",
       "      <td>2</td>\n",
       "      <td>0</td>\n",
       "      <td>0</td>\n",
       "      <td>0</td>\n",
       "      <td>0</td>\n",
       "      <td>0</td>\n",
       "      <td>0</td>\n",
       "      <td>0</td>\n",
       "      <td>0</td>\n",
       "      <td>0</td>\n",
       "      <td>...</td>\n",
       "      <td>0</td>\n",
       "      <td>0</td>\n",
       "      <td>0</td>\n",
       "      <td>0</td>\n",
       "      <td>0</td>\n",
       "      <td>0</td>\n",
       "      <td>0</td>\n",
       "      <td>0</td>\n",
       "      <td>0</td>\n",
       "      <td>0</td>\n",
       "    </tr>\n",
       "    <tr>\n",
       "      <th>1</th>\n",
       "      <td>9</td>\n",
       "      <td>0</td>\n",
       "      <td>0</td>\n",
       "      <td>0</td>\n",
       "      <td>0</td>\n",
       "      <td>0</td>\n",
       "      <td>0</td>\n",
       "      <td>0</td>\n",
       "      <td>0</td>\n",
       "      <td>0</td>\n",
       "      <td>...</td>\n",
       "      <td>0</td>\n",
       "      <td>0</td>\n",
       "      <td>0</td>\n",
       "      <td>0</td>\n",
       "      <td>0</td>\n",
       "      <td>0</td>\n",
       "      <td>0</td>\n",
       "      <td>0</td>\n",
       "      <td>0</td>\n",
       "      <td>0</td>\n",
       "    </tr>\n",
       "    <tr>\n",
       "      <th>2</th>\n",
       "      <td>6</td>\n",
       "      <td>0</td>\n",
       "      <td>0</td>\n",
       "      <td>0</td>\n",
       "      <td>0</td>\n",
       "      <td>0</td>\n",
       "      <td>0</td>\n",
       "      <td>0</td>\n",
       "      <td>5</td>\n",
       "      <td>0</td>\n",
       "      <td>...</td>\n",
       "      <td>0</td>\n",
       "      <td>0</td>\n",
       "      <td>0</td>\n",
       "      <td>30</td>\n",
       "      <td>43</td>\n",
       "      <td>0</td>\n",
       "      <td>0</td>\n",
       "      <td>0</td>\n",
       "      <td>0</td>\n",
       "      <td>0</td>\n",
       "    </tr>\n",
       "    <tr>\n",
       "      <th>3</th>\n",
       "      <td>0</td>\n",
       "      <td>0</td>\n",
       "      <td>0</td>\n",
       "      <td>0</td>\n",
       "      <td>1</td>\n",
       "      <td>2</td>\n",
       "      <td>0</td>\n",
       "      <td>0</td>\n",
       "      <td>0</td>\n",
       "      <td>0</td>\n",
       "      <td>...</td>\n",
       "      <td>3</td>\n",
       "      <td>0</td>\n",
       "      <td>0</td>\n",
       "      <td>0</td>\n",
       "      <td>0</td>\n",
       "      <td>1</td>\n",
       "      <td>0</td>\n",
       "      <td>0</td>\n",
       "      <td>0</td>\n",
       "      <td>0</td>\n",
       "    </tr>\n",
       "    <tr>\n",
       "      <th>4</th>\n",
       "      <td>3</td>\n",
       "      <td>0</td>\n",
       "      <td>0</td>\n",
       "      <td>0</td>\n",
       "      <td>0</td>\n",
       "      <td>0</td>\n",
       "      <td>0</td>\n",
       "      <td>0</td>\n",
       "      <td>0</td>\n",
       "      <td>0</td>\n",
       "      <td>...</td>\n",
       "      <td>0</td>\n",
       "      <td>0</td>\n",
       "      <td>0</td>\n",
       "      <td>0</td>\n",
       "      <td>0</td>\n",
       "      <td>0</td>\n",
       "      <td>0</td>\n",
       "      <td>0</td>\n",
       "      <td>0</td>\n",
       "      <td>0</td>\n",
       "    </tr>\n",
       "  </tbody>\n",
       "</table>\n",
       "<p>5 rows × 785 columns</p>\n",
       "</div>"
      ],
      "text/plain": [
       "   label  pixel1  pixel2  pixel3  pixel4  pixel5  pixel6  pixel7  pixel8  \\\n",
       "0      2       0       0       0       0       0       0       0       0   \n",
       "1      9       0       0       0       0       0       0       0       0   \n",
       "2      6       0       0       0       0       0       0       0       5   \n",
       "3      0       0       0       0       1       2       0       0       0   \n",
       "4      3       0       0       0       0       0       0       0       0   \n",
       "\n",
       "   pixel9  ...  pixel775  pixel776  pixel777  pixel778  pixel779  pixel780  \\\n",
       "0       0  ...         0         0         0         0         0         0   \n",
       "1       0  ...         0         0         0         0         0         0   \n",
       "2       0  ...         0         0         0        30        43         0   \n",
       "3       0  ...         3         0         0         0         0         1   \n",
       "4       0  ...         0         0         0         0         0         0   \n",
       "\n",
       "   pixel781  pixel782  pixel783  pixel784  \n",
       "0         0         0         0         0  \n",
       "1         0         0         0         0  \n",
       "2         0         0         0         0  \n",
       "3         0         0         0         0  \n",
       "4         0         0         0         0  \n",
       "\n",
       "[5 rows x 785 columns]"
      ]
     },
     "execution_count": 4,
     "metadata": {},
     "output_type": "execute_result"
    }
   ],
   "source": [
    "train_data.head()"
   ]
  },
  {
   "cell_type": "code",
   "execution_count": 5,
   "metadata": {
    "_cell_guid": "657bf656-6266-4ff7-9610-a8f4e85b3e29",
    "_uuid": "a736169bc4b6a1d172660b4cc390d98d7c24ac0a"
   },
   "outputs": [
    {
     "data": {
      "text/plain": [
       "((60000, 784), (10000, 784))"
      ]
     },
     "execution_count": 5,
     "metadata": {},
     "output_type": "execute_result"
    }
   ],
   "source": [
    "train_X.shape, test_X.shape"
   ]
  },
  {
   "cell_type": "code",
   "execution_count": 6,
   "metadata": {
    "_cell_guid": "90e0b7cd-4941-45e6-9cc5-35966a649a7a",
    "_uuid": "b1878c711627e46e0dc24cc9d1c886d87f2481bd"
   },
   "outputs": [
    {
     "data": {
      "text/plain": [
       "10"
      ]
     },
     "execution_count": 6,
     "metadata": {},
     "output_type": "execute_result"
    }
   ],
   "source": [
    "classes = np.unique(train_Y)\n",
    "num_classes = len(classes)\n",
    "num_classes"
   ]
  },
  {
   "cell_type": "code",
   "execution_count": 29,
   "metadata": {},
   "outputs": [
    {
     "data": {
      "text/plain": [
       "array([0, 1, 2, 3, 4, 5, 6, 7, 8, 9], dtype=int64)"
      ]
     },
     "execution_count": 29,
     "metadata": {},
     "output_type": "execute_result"
    }
   ],
   "source": [
    "np.unique(train_Y)"
   ]
  },
  {
   "cell_type": "code",
   "execution_count": 7,
   "metadata": {
    "_cell_guid": "65f644bd-0d53-4f93-9d56-44e5ee362124",
    "_uuid": "36b3aa039739b9465903682b38a911cb5550ebd7"
   },
   "outputs": [
    {
     "data": {
      "text/plain": [
       "((60000, 784, 3), (10000, 784, 3))"
      ]
     },
     "execution_count": 7,
     "metadata": {},
     "output_type": "execute_result"
    }
   ],
   "source": [
    "# Convert the images into 3 channels\n",
    "train_X=np.dstack([train_X] * 3)\n",
    "test_X=np.dstack([test_X]*3)\n",
    "train_X.shape, test_X.shape"
   ]
  },
  {
   "cell_type": "code",
   "execution_count": 8,
   "metadata": {
    "_cell_guid": "881b27ff-55a1-47f5-b814-e6e269b0c841",
    "_uuid": "18a5d76e99531a6807c561ee8e4d75f0d726d78f"
   },
   "outputs": [
    {
     "data": {
      "text/plain": [
       "((60000, 28, 28, 3), (10000, 28, 28, 3))"
      ]
     },
     "execution_count": 8,
     "metadata": {},
     "output_type": "execute_result"
    }
   ],
   "source": [
    "# Reshape images as per the tensor format required by tensorflow\n",
    "train_X = train_X.reshape(-1, 28,28,3)\n",
    "test_X= test_X.reshape (-1,28,28,3)\n",
    "train_X.shape, test_X.shape"
   ]
  },
  {
   "cell_type": "code",
   "execution_count": 9,
   "metadata": {
    "_cell_guid": "088dd0e5-b28c-4d44-b7f1-ad972ec93f8b",
    "_uuid": "0fe00caac550a34af0076645c5fa0fa64b2908cc"
   },
   "outputs": [
    {
     "data": {
      "text/plain": [
       "((60000, 48, 48, 3), (10000, 48, 48, 3))"
      ]
     },
     "execution_count": 9,
     "metadata": {},
     "output_type": "execute_result"
    }
   ],
   "source": [
    "# Resize the images 48*48 as required by VGG16\n",
    "from keras.preprocessing.image import img_to_array, array_to_img\n",
    "train_X = np.asarray([img_to_array(array_to_img(im, scale=False).resize((48,48))) for im in train_X])\n",
    "test_X = np.asarray([img_to_array(array_to_img(im, scale=False).resize((48,48))) for im in test_X])\n",
    "#train_x = preprocess_input(x)\n",
    "train_X.shape, test_X.shape"
   ]
  },
  {
   "cell_type": "code",
   "execution_count": 10,
   "metadata": {
    "_cell_guid": "b7f7e12c-01ce-47e5-95bd-069cb89c9258",
    "_uuid": "7bf156c69f540216d0e7b5de3e7b0ad50592099d"
   },
   "outputs": [],
   "source": [
    "# Normalise the data and change data type\n",
    "train_X = train_X / 255.\n",
    "test_X = test_X / 255.\n",
    "train_X = train_X.astype('float32')\n",
    "test_X = test_X.astype('float32')"
   ]
  },
  {
   "cell_type": "code",
   "execution_count": 11,
   "metadata": {
    "_cell_guid": "f2632a1e-c62b-43ca-8417-3dd16176d6a3",
    "_uuid": "6a11e96346d7ff14c5614375ab9237809f4750fd"
   },
   "outputs": [],
   "source": [
    "# Converting Labels to one hot encoded format\n",
    "train_Y_one_hot = to_categorical(train_Y)\n",
    "test_Y_one_hot = to_categorical(test_Y)"
   ]
  },
  {
   "cell_type": "code",
   "execution_count": 30,
   "metadata": {},
   "outputs": [
    {
     "data": {
      "text/plain": [
       "array([[1., 0., 0., ..., 0., 0., 0.],\n",
       "       [0., 1., 0., ..., 0., 0., 0.],\n",
       "       [0., 0., 1., ..., 0., 0., 0.],\n",
       "       ...,\n",
       "       [0., 0., 0., ..., 0., 1., 0.],\n",
       "       [0., 0., 0., ..., 0., 1., 0.],\n",
       "       [0., 1., 0., ..., 0., 0., 0.]], dtype=float32)"
      ]
     },
     "execution_count": 30,
     "metadata": {},
     "output_type": "execute_result"
    }
   ],
   "source": [
    "test_Y_one_hot"
   ]
  },
  {
   "cell_type": "code",
   "execution_count": 12,
   "metadata": {
    "_cell_guid": "854ef9e9-4fac-4021-8742-258bbc64f7d7",
    "_uuid": "e83f7fb410d318f63141efd5318c4b7ea06c925a"
   },
   "outputs": [],
   "source": [
    "# Splitting train data as train and validation data\n",
    "train_X,valid_X,train_label,valid_label = train_test_split(train_X,\n",
    "                                                           train_Y_one_hot,\n",
    "                                                           test_size=0.2,\n",
    "                                                           random_state=13\n",
    "                                                           )"
   ]
  },
  {
   "cell_type": "code",
   "execution_count": 13,
   "metadata": {
    "_cell_guid": "533aef5c-ea10-46f8-8678-ae8466c61358",
    "_uuid": "30c531675abd917e1aff9c7174000a8da61c8e9a"
   },
   "outputs": [
    {
     "data": {
      "text/plain": [
       "((48000, 48, 48, 3), (12000, 48, 48, 3), (48000, 10), (12000, 10))"
      ]
     },
     "execution_count": 13,
     "metadata": {},
     "output_type": "execute_result"
    }
   ],
   "source": [
    "# Finally check the data size whether it is as per tensorflow and VGG16 requirement\n",
    "train_X.shape,valid_X.shape,train_label.shape,valid_label.shape"
   ]
  },
  {
   "cell_type": "code",
   "execution_count": 14,
   "metadata": {
    "_cell_guid": "b9a862b8-83a7-4920-9662-4e7d5b06fa2a",
    "_uuid": "113ac9912ec68548ab6c9663d2a268b341d19318"
   },
   "outputs": [],
   "source": [
    "# Define the parameters for instanitaing VGG16 model. \n",
    "IMG_WIDTH = 48\n",
    "IMG_HEIGHT = 48\n",
    "IMG_DEPTH = 3\n",
    "BATCH_SIZE = 16"
   ]
  },
  {
   "cell_type": "code",
   "execution_count": 15,
   "metadata": {
    "_cell_guid": "502df777-d9c5-4a15-9928-c40930a786a7",
    "_uuid": "1efa26a809251bb45f142337617313b8a8b0257c"
   },
   "outputs": [],
   "source": [
    "# Preprocessing the input \n",
    "train_X = preprocess_input(train_X)\n",
    "valid_X = preprocess_input(valid_X)\n",
    "test_X  = preprocess_input (test_X)"
   ]
  },
  {
   "cell_type": "code",
   "execution_count": 16,
   "metadata": {
    "_cell_guid": "229322c0-79c7-499c-b8f5-7eafd8fd45da",
    "_uuid": "3b3f38f3d269f4ee886e7617f9aafe6b2dae6896",
    "scrolled": false
   },
   "outputs": [
    {
     "name": "stdout",
     "output_type": "stream",
     "text": [
      "WARNING:tensorflow:From C:\\Users\\TanushPasupuleti\\Anaconda3\\envs\\tanush_data_science\\lib\\site-packages\\keras\\backend\\tensorflow_backend.py:4070: The name tf.nn.max_pool is deprecated. Please use tf.nn.max_pool2d instead.\n",
      "\n",
      "Model: \"vgg16\"\n",
      "_________________________________________________________________\n",
      "Layer (type)                 Output Shape              Param #   \n",
      "=================================================================\n",
      "input_1 (InputLayer)         (None, 48, 48, 3)         0         \n",
      "_________________________________________________________________\n",
      "block1_conv1 (Conv2D)        (None, 48, 48, 64)        1792      \n",
      "_________________________________________________________________\n",
      "block1_conv2 (Conv2D)        (None, 48, 48, 64)        36928     \n",
      "_________________________________________________________________\n",
      "block1_pool (MaxPooling2D)   (None, 24, 24, 64)        0         \n",
      "_________________________________________________________________\n",
      "block2_conv1 (Conv2D)        (None, 24, 24, 128)       73856     \n",
      "_________________________________________________________________\n",
      "block2_conv2 (Conv2D)        (None, 24, 24, 128)       147584    \n",
      "_________________________________________________________________\n",
      "block2_pool (MaxPooling2D)   (None, 12, 12, 128)       0         \n",
      "_________________________________________________________________\n",
      "block3_conv1 (Conv2D)        (None, 12, 12, 256)       295168    \n",
      "_________________________________________________________________\n",
      "block3_conv2 (Conv2D)        (None, 12, 12, 256)       590080    \n",
      "_________________________________________________________________\n",
      "block3_conv3 (Conv2D)        (None, 12, 12, 256)       590080    \n",
      "_________________________________________________________________\n",
      "block3_pool (MaxPooling2D)   (None, 6, 6, 256)         0         \n",
      "_________________________________________________________________\n",
      "block4_conv1 (Conv2D)        (None, 6, 6, 512)         1180160   \n",
      "_________________________________________________________________\n",
      "block4_conv2 (Conv2D)        (None, 6, 6, 512)         2359808   \n",
      "_________________________________________________________________\n",
      "block4_conv3 (Conv2D)        (None, 6, 6, 512)         2359808   \n",
      "_________________________________________________________________\n",
      "block4_pool (MaxPooling2D)   (None, 3, 3, 512)         0         \n",
      "_________________________________________________________________\n",
      "block5_conv1 (Conv2D)        (None, 3, 3, 512)         2359808   \n",
      "_________________________________________________________________\n",
      "block5_conv2 (Conv2D)        (None, 3, 3, 512)         2359808   \n",
      "_________________________________________________________________\n",
      "block5_conv3 (Conv2D)        (None, 3, 3, 512)         2359808   \n",
      "_________________________________________________________________\n",
      "block5_pool (MaxPooling2D)   (None, 1, 1, 512)         0         \n",
      "=================================================================\n",
      "Total params: 14,714,688\n",
      "Trainable params: 14,714,688\n",
      "Non-trainable params: 0\n",
      "_________________________________________________________________\n"
     ]
    }
   ],
   "source": [
    "#  Create base model of VGG16\n",
    "conv_base = VGG16(weights='vgg16_weights_tf_dim_ordering_tf_kernels_notop.h5',\n",
    "                  include_top=False, \n",
    "                  input_shape=(IMG_HEIGHT, IMG_WIDTH, IMG_DEPTH)\n",
    "                 )\n",
    "conv_base.summary()"
   ]
  },
  {
   "cell_type": "code",
   "execution_count": 17,
   "metadata": {
    "_cell_guid": "aaa03ae6-b327-4155-bb3f-bc276cfc5f79",
    "_uuid": "3303dec8034ae9001f6bbfd172772c3763c0ca95"
   },
   "outputs": [
    {
     "name": "stdout",
     "output_type": "stream",
     "text": [
      "WARNING:tensorflow:From C:\\Users\\TanushPasupuleti\\Anaconda3\\envs\\tanush_data_science\\lib\\site-packages\\keras\\backend\\tensorflow_backend.py:422: The name tf.global_variables is deprecated. Please use tf.compat.v1.global_variables instead.\n",
      "\n",
      "48000/48000 [==============================] - 898s 19ms/step\n",
      "10000/10000 [==============================] - 195s 20ms/step\n",
      "12000/12000 [==============================] - 190s 16ms/step\n"
     ]
    }
   ],
   "source": [
    "# Extracting features\n",
    "train_features = conv_base.predict(np.array(train_X), batch_size=BATCH_SIZE, verbose=1)\n",
    "test_features = conv_base.predict(np.array(test_X), batch_size=BATCH_SIZE, verbose=1)\n",
    "val_features = conv_base.predict(np.array(valid_X), batch_size=BATCH_SIZE, verbose=1)\n",
    "#for layer in conv_base.layers:\n",
    "#    layer.trainable = False"
   ]
  },
  {
   "cell_type": "code",
   "execution_count": 18,
   "metadata": {
    "_cell_guid": "ca1c5a1a-c870-4c5a-a086-77aaa1934f28",
    "_uuid": "edd015a505d1088b0aacc5f7ee5434cfa40929ef"
   },
   "outputs": [],
   "source": [
    "# 6.1 Saving the features so that they can be used for future\n",
    "np.savez(\"train_features\", train_features, train_label)\n",
    "np.savez(\"test_features\", test_features, test_Y)\n",
    "np.savez(\"val_features\", val_features, valid_label)"
   ]
  },
  {
   "cell_type": "code",
   "execution_count": 19,
   "metadata": {
    "_cell_guid": "06ee60c6-d892-47c9-a29e-498a9a8e6888",
    "_uuid": "afc55e2793e4c9c14330bbe3d2b17c98ff680843"
   },
   "outputs": [
    {
     "name": "stdout",
     "output_type": "stream",
     "text": [
      "(48000, 1, 1, 512) \n",
      " (10000, 1, 1, 512) \n",
      " (12000, 1, 1, 512)\n"
     ]
    }
   ],
   "source": [
    "# Current shape of features\n",
    "print(train_features.shape, \"\\n\",  test_features.shape, \"\\n\", val_features.shape)"
   ]
  },
  {
   "cell_type": "code",
   "execution_count": 20,
   "metadata": {
    "_cell_guid": "da226aa2-e159-4426-9e11-624b109599ae",
    "_uuid": "e8e7f72c0d7a6702c8e68b68ad050d81f052e14d"
   },
   "outputs": [],
   "source": [
    "# Flatten extracted features\n",
    "train_features_flat = np.reshape(train_features, (48000, 1*1*512))\n",
    "test_features_flat = np.reshape(test_features, (10000, 1*1*512))\n",
    "val_features_flat = np.reshape(val_features, (12000, 1*1*512))"
   ]
  },
  {
   "cell_type": "code",
   "execution_count": 21,
   "metadata": {
    "_uuid": "3fae918d3a48e24cbf3de5190f5c0616d13d696c"
   },
   "outputs": [],
   "source": [
    "from keras import models\n",
    "from keras.models import Model\n",
    "from keras import layers\n",
    "from keras import optimizers\n",
    "from keras import callbacks\n",
    "from keras.layers.advanced_activations import LeakyReLU"
   ]
  },
  {
   "cell_type": "code",
   "execution_count": 22,
   "metadata": {
    "_cell_guid": "f4ca32f8-2a43-453c-838e-efcb89b21df2",
    "_uuid": "4bf35298843795507b757fbcbe2b056f2f51e4b8"
   },
   "outputs": [],
   "source": [
    "# 7.0 Define the densely connected classifier followed by leakyrelu layer and finally dense layer for the number of classes\n",
    "NB_TRAIN_SAMPLES = train_features_flat.shape[0]\n",
    "NB_VALIDATION_SAMPLES = val_features_flat.shape[0]\n",
    "NB_EPOCHS = 100\n",
    "\n",
    "model = models.Sequential()\n",
    "model.add(layers.Dense(512, activation='relu', input_dim=(1*1*512)))\n",
    "model.add(layers.LeakyReLU(alpha=0.1))\n",
    "model.add(layers.Dense(num_classes, activation='softmax'))"
   ]
  },
  {
   "cell_type": "code",
   "execution_count": 23,
   "metadata": {
    "_cell_guid": "c9c315be-b7c7-484d-9add-0a3aeea4cd14",
    "_uuid": "c22c87623f160988f1aa302bfe76c79c1c08aaba"
   },
   "outputs": [],
   "source": [
    "# Compile the model.\n",
    "model.compile(\n",
    "    loss='categorical_crossentropy',\n",
    "    optimizer=optimizers.Adam(),\n",
    "  # optimizer=optimizers.RMSprop(lr=2e-5),\n",
    "    metrics=['acc'])"
   ]
  },
  {
   "cell_type": "code",
   "execution_count": 24,
   "metadata": {
    "_cell_guid": "77267b8d-0cb3-47df-8aeb-abfc715cdccb",
    "_uuid": "620794510507d763cbdbec85cf88bc74a38c689c"
   },
   "outputs": [],
   "source": [
    "# Incorporating reduced learning and early stopping for callback\n",
    "reduce_learning = callbacks.ReduceLROnPlateau(\n",
    "    monitor='val_loss',\n",
    "    factor=0.2,\n",
    "    patience=2,\n",
    "    verbose=1,\n",
    "    mode='auto',\n",
    "    epsilon=0.0001,\n",
    "    cooldown=2,\n",
    "    min_lr=0)\n",
    "\n",
    "eary_stopping = callbacks.EarlyStopping(\n",
    "    monitor='val_loss',\n",
    "    min_delta=0,\n",
    "    patience=7,\n",
    "    verbose=1,\n",
    "    mode='auto')\n",
    "\n",
    "callbacks = [reduce_learning, eary_stopping]"
   ]
  },
  {
   "cell_type": "code",
   "execution_count": 25,
   "metadata": {
    "_cell_guid": "111c53bc-3f72-426e-abfb-a902d8aa1933",
    "_uuid": "fa421c86f8429c230970142425f236a0e6affb1b"
   },
   "outputs": [
    {
     "name": "stdout",
     "output_type": "stream",
     "text": [
      "Train on 48000 samples, validate on 12000 samples\n",
      "Epoch 1/100\n",
      "48000/48000 [==============================] - 16s 330us/step - loss: 1.4826 - acc: 0.4536 - val_loss: 1.2506 - val_acc: 0.5108\n",
      "Epoch 2/100\n",
      "48000/48000 [==============================] - 16s 336us/step - loss: 1.1033 - acc: 0.5943 - val_loss: 1.0457 - val_acc: 0.6108\n",
      "Epoch 3/100\n",
      "48000/48000 [==============================] - 16s 342us/step - loss: 0.9840 - acc: 0.6397 - val_loss: 0.9367 - val_acc: 0.6611\n",
      "Epoch 4/100\n",
      "48000/48000 [==============================] - 17s 357us/step - loss: 0.9435 - acc: 0.6546 - val_loss: 0.9655 - val_acc: 0.6468\n",
      "Epoch 5/100\n",
      "48000/48000 [==============================] - 17s 364us/step - loss: 0.9087 - acc: 0.6671 - val_loss: 0.8769 - val_acc: 0.6909\n",
      "Epoch 6/100\n",
      "48000/48000 [==============================] - 17s 351us/step - loss: 0.8874 - acc: 0.6760 - val_loss: 0.8781 - val_acc: 0.6903\n",
      "Epoch 7/100\n",
      "48000/48000 [==============================] - 16s 343us/step - loss: 0.8699 - acc: 0.6805 - val_loss: 0.8305 - val_acc: 0.6904\n",
      "Epoch 8/100\n",
      "48000/48000 [==============================] - 17s 347us/step - loss: 0.8505 - acc: 0.6875 - val_loss: 0.8285 - val_acc: 0.6996\n",
      "Epoch 9/100\n",
      "48000/48000 [==============================] - 18s 370us/step - loss: 0.8420 - acc: 0.6902 - val_loss: 0.8593 - val_acc: 0.6966\n",
      "Epoch 10/100\n",
      "48000/48000 [==============================] - 17s 352us/step - loss: 0.8314 - acc: 0.6965 - val_loss: 0.8001 - val_acc: 0.7113\n",
      "Epoch 11/100\n",
      "48000/48000 [==============================] - 17s 356us/step - loss: 0.8213 - acc: 0.6977 - val_loss: 0.8080 - val_acc: 0.7042\n",
      "Epoch 12/100\n",
      "48000/48000 [==============================] - 17s 357us/step - loss: 0.8155 - acc: 0.7008 - val_loss: 0.8387 - val_acc: 0.6938\n",
      "\n",
      "Epoch 00012: ReduceLROnPlateau reducing learning rate to 0.00020000000949949026.\n",
      "Epoch 13/100\n",
      "48000/48000 [==============================] - 17s 363us/step - loss: 0.7515 - acc: 0.7285 - val_loss: 0.7652 - val_acc: 0.7188\n",
      "Epoch 14/100\n",
      "48000/48000 [==============================] - 19s 397us/step - loss: 0.7463 - acc: 0.7299 - val_loss: 0.7519 - val_acc: 0.7300\n",
      "Epoch 15/100\n",
      "48000/48000 [==============================] - 17s 351us/step - loss: 0.7419 - acc: 0.7312 - val_loss: 0.7472 - val_acc: 0.7293\n",
      "Epoch 16/100\n",
      "48000/48000 [==============================] - 17s 362us/step - loss: 0.7380 - acc: 0.7341 - val_loss: 0.7647 - val_acc: 0.7207\n",
      "Epoch 17/100\n",
      "48000/48000 [==============================] - 17s 348us/step - loss: 0.7354 - acc: 0.7340 - val_loss: 0.7351 - val_acc: 0.7360\n",
      "Epoch 18/100\n",
      "48000/48000 [==============================] - 18s 369us/step - loss: 0.7334 - acc: 0.7346 - val_loss: 0.7362 - val_acc: 0.7337\n",
      "Epoch 19/100\n",
      "48000/48000 [==============================] - 18s 382us/step - loss: 0.7299 - acc: 0.7354 - val_loss: 0.7333 - val_acc: 0.7318\n",
      "Epoch 20/100\n",
      "48000/48000 [==============================] - 18s 375us/step - loss: 0.7277 - acc: 0.7360 - val_loss: 0.7409 - val_acc: 0.7283\n",
      "Epoch 21/100\n",
      "48000/48000 [==============================] - 19s 397us/step - loss: 0.7252 - acc: 0.7366 - val_loss: 0.7372 - val_acc: 0.7306\n",
      "\n",
      "Epoch 00021: ReduceLROnPlateau reducing learning rate to 4.0000001899898055e-05.\n",
      "Epoch 22/100\n",
      "48000/48000 [==============================] - 19s 387us/step - loss: 0.7094 - acc: 0.7440 - val_loss: 0.7210 - val_acc: 0.7377\n",
      "Epoch 23/100\n",
      "48000/48000 [==============================] - 18s 370us/step - loss: 0.7085 - acc: 0.7440 - val_loss: 0.7241 - val_acc: 0.7340\n",
      "Epoch 24/100\n",
      "48000/48000 [==============================] - 18s 371us/step - loss: 0.7074 - acc: 0.7456 - val_loss: 0.7191 - val_acc: 0.7382\n",
      "Epoch 25/100\n",
      "48000/48000 [==============================] - 18s 381us/step - loss: 0.7069 - acc: 0.7460 - val_loss: 0.7185 - val_acc: 0.7400\n",
      "Epoch 26/100\n",
      "48000/48000 [==============================] - 18s 372us/step - loss: 0.7065 - acc: 0.7454 - val_loss: 0.7184 - val_acc: 0.7381\n",
      "Epoch 27/100\n",
      "48000/48000 [==============================] - 18s 377us/step - loss: 0.7060 - acc: 0.7451 - val_loss: 0.7168 - val_acc: 0.7400\n",
      "Epoch 28/100\n",
      "48000/48000 [==============================] - 18s 375us/step - loss: 0.7053 - acc: 0.7474 - val_loss: 0.7175 - val_acc: 0.7402\n",
      "Epoch 29/100\n",
      "48000/48000 [==============================] - 18s 378us/step - loss: 0.7051 - acc: 0.7460 - val_loss: 0.7153 - val_acc: 0.7388\n",
      "Epoch 30/100\n",
      "48000/48000 [==============================] - 18s 379us/step - loss: 0.7043 - acc: 0.7460 - val_loss: 0.7150 - val_acc: 0.7387\n",
      "Epoch 31/100\n",
      "48000/48000 [==============================] - 18s 383us/step - loss: 0.7035 - acc: 0.7469 - val_loss: 0.7136 - val_acc: 0.7413\n",
      "Epoch 32/100\n",
      "48000/48000 [==============================] - 19s 399us/step - loss: 0.7034 - acc: 0.7467 - val_loss: 0.7142 - val_acc: 0.7413\n",
      "Epoch 33/100\n",
      "48000/48000 [==============================] - 19s 402us/step - loss: 0.7028 - acc: 0.7463 - val_loss: 0.7164 - val_acc: 0.7388\n",
      "\n",
      "Epoch 00033: ReduceLROnPlateau reducing learning rate to 8.000000525498762e-06.\n",
      "Epoch 34/100\n",
      "48000/48000 [==============================] - 18s 379us/step - loss: 0.6993 - acc: 0.7481 - val_loss: 0.7112 - val_acc: 0.7421\n",
      "Epoch 35/100\n",
      "48000/48000 [==============================] - 18s 381us/step - loss: 0.6989 - acc: 0.7483 - val_loss: 0.7112 - val_acc: 0.7429\n",
      "Epoch 36/100\n",
      "48000/48000 [==============================] - 17s 364us/step - loss: 0.6987 - acc: 0.7478 - val_loss: 0.7116 - val_acc: 0.7420\n",
      "\n",
      "Epoch 00036: ReduceLROnPlateau reducing learning rate to 1.6000001778593287e-06.\n",
      "Epoch 37/100\n",
      "48000/48000 [==============================] - 18s 379us/step - loss: 0.6980 - acc: 0.7498 - val_loss: 0.7107 - val_acc: 0.7425\n",
      "Epoch 38/100\n",
      "48000/48000 [==============================] - 18s 382us/step - loss: 0.6979 - acc: 0.7493 - val_loss: 0.7105 - val_acc: 0.7431\n",
      "Epoch 39/100\n",
      "48000/48000 [==============================] - 18s 381us/step - loss: 0.6979 - acc: 0.7494 - val_loss: 0.7108 - val_acc: 0.7424\n",
      "Epoch 40/100\n",
      "48000/48000 [==============================] - 18s 377us/step - loss: 0.6978 - acc: 0.7491 - val_loss: 0.7110 - val_acc: 0.7423\n",
      "\n",
      "Epoch 00040: ReduceLROnPlateau reducing learning rate to 3.200000264769187e-07.\n",
      "Epoch 41/100\n",
      "48000/48000 [==============================] - 18s 380us/step - loss: 0.6977 - acc: 0.7488 - val_loss: 0.7106 - val_acc: 0.7427\n",
      "Epoch 42/100\n",
      "48000/48000 [==============================] - 18s 385us/step - loss: 0.6976 - acc: 0.7493 - val_loss: 0.7106 - val_acc: 0.7427\n",
      "Epoch 43/100\n",
      "48000/48000 [==============================] - 19s 385us/step - loss: 0.6976 - acc: 0.7491 - val_loss: 0.7105 - val_acc: 0.7426\n",
      "\n",
      "Epoch 00043: ReduceLROnPlateau reducing learning rate to 6.400000529538374e-08.\n",
      "Epoch 44/100\n",
      "48000/48000 [==============================] - 18s 379us/step - loss: 0.6976 - acc: 0.7494 - val_loss: 0.7105 - val_acc: 0.7426\n",
      "Epoch 45/100\n",
      "48000/48000 [==============================] - 18s 377us/step - loss: 0.6976 - acc: 0.7493 - val_loss: 0.7105 - val_acc: 0.7426\n",
      "Epoch 00045: early stopping\n"
     ]
    }
   ],
   "source": [
    "# Train the the model\n",
    "history = model.fit(\n",
    "    train_features_flat,\n",
    "    train_label,\n",
    "    epochs=NB_EPOCHS,\n",
    "    validation_data=(val_features_flat, valid_label),\n",
    "    callbacks=callbacks\n",
    ")"
   ]
  },
  {
   "cell_type": "code",
   "execution_count": 26,
   "metadata": {
    "_cell_guid": "098cc9db-404e-4125-9b0a-3b30875cc79a",
    "_uuid": "f9eb383670f32c4c8a4cc5ca3d4b5e8174f924e8"
   },
   "outputs": [
    {
     "data": {
      "image/png": "[encoded data removed]",
      "text/plain": [
       "<Figure size 432x288 with 1 Axes>"
      ]
     },
     "metadata": {
      "needs_background": "light"
     },
     "output_type": "display_data"
    },
    {
     "data": {
      "image/png": "[encoded data removed]",
      "text/plain": [
       "<Figure size 432x288 with 1 Axes>"
      ]
     },
     "metadata": {
      "needs_background": "light"
     },
     "output_type": "display_data"
    }
   ],
   "source": [
    "# plot the loss and accuracy\n",
    "\n",
    "acc = history.history['acc']\n",
    "val_acc = history.history['val_acc']\n",
    "loss = history.history['loss']\n",
    "val_loss = history.history['val_loss']\n",
    "epochs = range(1, len(acc) + 1)\n",
    "\n",
    "plt.title('Training and validation accuracy')\n",
    "plt.plot(epochs, acc, 'red', label='Training acc')\n",
    "plt.plot(epochs, val_acc, 'blue', label='Validation acc')\n",
    "plt.legend()\n",
    "\n",
    "plt.figure()\n",
    "plt.title('Training and validation loss')\n",
    "plt.plot(epochs, loss, 'red', label='Training loss')\n",
    "plt.plot(epochs, val_loss, 'blue', label='Validation loss')\n",
    "\n",
    "plt.legend()\n",
    "\n",
    "plt.show()\n"
   ]
  },
  {
   "cell_type": "markdown",
   "metadata": {
    "_cell_guid": "9cde6c7a-22ef-4c40-a1f9-c23aa3ccbb87",
    "_uuid": "806070772ca7bb192301cdc01dc60bb5b378c59a"
   },
   "source": [
    "References\n",
    "https://www.kaggle.com/crawford/diagnose-lung-disease-with-vgg16\n",
    "https://www.programcreek.com/python/example/92213/keras.applications.vgg16.VGG16\n",
    "http://www.socouldanyone.com/2013/03/converting-grayscale-to-rgb-with-numpy.html"
   ]
  }
 ],
 "metadata": {
  "kernelspec": {
   "display_name": "Python 3",
   "language": "python",
   "name": "python3"
  },
  "language_info": {
   "codemirror_mode": {
    "name": "ipython",
    "version": 3
   },
   "file_extension": ".py",
   "mimetype": "text/x-python",
   "name": "python",
   "nbconvert_exporter": "python",
   "pygments_lexer": "ipython3",
   "version": "3.6.9"
  }
 },
 "nbformat": 4,
 "nbformat_minor": 1
}
