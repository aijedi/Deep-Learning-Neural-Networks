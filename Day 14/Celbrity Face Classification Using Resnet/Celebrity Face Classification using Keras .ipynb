{
 "cells": [
  {
   "cell_type": "markdown",
   "metadata": {
    "_uuid": "adb037df26d8a7d6b8500b6ac5ffc3add0cd3cca"
   },
   "source": [
    "This sample demonstrates celebrity face classification using Keras with transfer learning"
   ]
  },
  {
   "cell_type": "code",
   "execution_count": 33,
   "metadata": {
    "_uuid": "3be06c09bd16cc29a775672cba60360e93f90409"
   },
   "outputs": [],
   "source": [
    "# This Python 3 environment comes with many helpful analytics libraries installed\n",
    "# It is defined by the kaggle/python docker image: https://github.com/kaggle/docker-python\n",
    "# For example, here's several helpful packages to load in \n",
    "\n",
    "# Input data files are available in the \"../input/\" directory.\n",
    "# For example, running this (by clicking run or pressing Shift+Enter) will list the files in the input directory\n",
    "\n",
    "import os\n",
    "\n",
    "data_dir = 'data'\n",
    "vgg16weight = 'vgg16_weights_tf_dim_ordering_tf_kernels_notop.h5'\n",
    "#resnet50weight = '../input/keras-pretrained-models/resnet50_weights_tf_dim_ordering_tf_kernels_notop.h5'"
   ]
  },
  {
   "cell_type": "code",
   "execution_count": 34,
   "metadata": {
    "_uuid": "3c048e92155dbdf3ac117465021bcb12b511a1f8",
    "scrolled": false
   },
   "outputs": [],
   "source": [
    "import warnings\n",
    "warnings.filterwarnings('ignore')\n",
    "\n",
    "from keras.preprocessing.image import ImageDataGenerator\n",
    "from keras.models import Model, Sequential\n",
    "from keras.layers import Conv2D, MaxPooling2D, BatchNormalization, GlobalAveragePooling2D\n",
    "from keras.layers import Activation, Dropout, Flatten, Dense\n",
    "from keras.optimizers import RMSprop, SGD\n",
    "from keras import backend as K\n",
    "\n",
    "import keras\n",
    "\n",
    "import matplotlib.pyplot as plt"
   ]
  },
  {
   "cell_type": "markdown",
   "metadata": {
    "_uuid": "85628d9635634229bd8712d9a986415385d48bb6",
    "collapsed": true
   },
   "source": [
    "### 1. Prepare Data"
   ]
  },
  {
   "cell_type": "code",
   "execution_count": 35,
   "metadata": {
    "_uuid": "aa0c9ecd43c4828b2a714948d3478c67383a9bda"
   },
   "outputs": [],
   "source": [
    "img_width, img_height = 200, 200\n",
    "\n",
    "train_data_dir = os.path.join(data_dir, 'train')\n",
    "validation_data_dir = os.path.join(data_dir, 'val')\n",
    "\n",
    "nb_train_samples = 93\n",
    "nb_validation_samples = 25\n",
    "\n",
    "epochs = 50\n",
    "batch_size = 16\n",
    "numclasses = 5"
   ]
  },
  {
   "cell_type": "code",
   "execution_count": 36,
   "metadata": {
    "_uuid": "f9f680ed21e84ed9cbbb4464a2ad4ff2cdc98f5b",
    "scrolled": true
   },
   "outputs": [
    {
     "name": "stdout",
     "output_type": "stream",
     "text": [
      "Found 88 images belonging to 5 classes.\n",
      "Found 25 images belonging to 5 classes.\n"
     ]
    }
   ],
   "source": [
    "# dataset\n",
    "# this is the augmentation configuration we will use for training\n",
    "train_datagen = ImageDataGenerator(\n",
    "    rescale=1. / 255,\n",
    "    rotation_range=10,  # randomly rotate images in the range (degrees, 0 to 180)\n",
    "    zoom_range = 0.1, # Randomly zoom image \n",
    "    width_shift_range=0.1,  # randomly shift images horizontally (fraction of total width)\n",
    "    height_shift_range=0.1,  # randomly shift images vertically (fraction of total height)\n",
    "    #shear_range=0.2,\n",
    "    vertical_flip=False,\n",
    "    horizontal_flip=True)\n",
    "\n",
    "# this is the augmentation configuration we will use for testing:\n",
    "# only rescaling\n",
    "test_datagen = ImageDataGenerator(rescale=1. / 255)\n",
    "\n",
    "train_generator = train_datagen.flow_from_directory(\n",
    "    train_data_dir,\n",
    "    target_size=(img_width, img_height),\n",
    "    batch_size=batch_size,\n",
    "    class_mode='categorical')\n",
    "\n",
    "validation_generator = test_datagen.flow_from_directory(\n",
    "    validation_data_dir,\n",
    "    target_size=(img_width, img_height),\n",
    "    batch_size=batch_size,\n",
    "    class_mode='categorical')"
   ]
  },
  {
   "cell_type": "markdown",
   "metadata": {
    "_uuid": "b6005e3cf37b715831e5112e2f69e4e8f40d4c3d",
    "collapsed": true
   },
   "source": [
    "### 2. Model"
   ]
  },
  {
   "cell_type": "code",
   "execution_count": 37,
   "metadata": {
    "_uuid": "d40ddf608386f6c1d2d4b1af4e0a6614e76d0a75"
   },
   "outputs": [],
   "source": [
    "if K.image_data_format() == 'channels_first':\n",
    "    input_shape = (3, img_width, img_height)\n",
    "else:\n",
    "    input_shape = (img_width, img_height, 3)"
   ]
  },
  {
   "cell_type": "code",
   "execution_count": 38,
   "metadata": {
    "_uuid": "53895b45df5d332dc364b3d9b0b058d28889de52"
   },
   "outputs": [],
   "source": [
    "def vgg16CNNtl(input_shape, outclass, sigma='sigmoid'):\n",
    "    \n",
    "    base_model = None\n",
    "    base_model = keras.applications.VGG16(weights=None, include_top=False, input_shape=input_shape)\n",
    "    base_model.load_weights(vgg16weight)\n",
    "        \n",
    "    top_model = Sequential()\n",
    "    top_model.add(Flatten(input_shape=base_model.output_shape[1:]))\n",
    "    for i in range(2):\n",
    "        top_model.add(Dense(4096, activation='relu'))\n",
    "        top_model.add(Dropout(0.5))\n",
    "    top_model.add(Dense(outclass, activation=sigma))\n",
    "\n",
    "    model = None\n",
    "    model = Model(inputs=base_model.input, outputs=top_model(base_model.output))\n",
    "    \n",
    "    return model\n",
    " \n",
    "def resnet50tl(input_shape, outclass, sigma='sigmoid'):\n",
    "    \n",
    "    base_model = None\n",
    "    base_model = keras.applications.resnet50.ResNet50(weights=None, include_top=False, input_shape=input_shape)\n",
    "    base_model.load_weights(resnet50weight)\n",
    "    \n",
    "    top_model = Sequential()\n",
    "    top_model.add(Flatten(input_shape=base_model.output_shape[1:]))\n",
    "    for i in range(2):\n",
    "        top_model.add(Dense(4096, activation='relu'))\n",
    "        top_model.add(Dropout(0.5))\n",
    "    top_model.add(Dense(outclass, activation=sigma))\n",
    "\n",
    "    model = None\n",
    "    model = Model(inputs=base_model.input, outputs=top_model(base_model.output))\n",
    "    \n",
    "    return model\n"
   ]
  },
  {
   "cell_type": "code",
   "execution_count": 39,
   "metadata": {
    "_uuid": "d2434d17467a68ab77b8230cef39afc09e63f15c"
   },
   "outputs": [],
   "source": [
    "model = vgg16CNNtl(input_shape, numclasses, 'softmax')\n",
    "lr = 1e-5\n",
    "decay = 1e-7 #0.0\n",
    "optimizer = RMSprop(lr=lr, decay=decay)\n",
    "model.compile(loss='categorical_crossentropy',\n",
    "              optimizer=optimizer,\n",
    "              metrics=['accuracy'])"
   ]
  },
  {
   "cell_type": "code",
   "execution_count": 42,
   "metadata": {},
   "outputs": [],
   "source": [
    "ckpt = keras.callbacks.callbacks.ModelCheckpoint('save.h5', monitor='val_loss', verbose=0, save_best_only=True, save_weights_only=True, mode='auto', period=1)\n",
    "es = keras.callbacks.callbacks.EarlyStopping(monitor='val_loss', min_delta=0, patience=0, verbose=0, mode='auto', baseline=None, restore_best_weights=False)"
   ]
  },
  {
   "cell_type": "markdown",
   "metadata": {
    "_uuid": "dd22fe68f3571da784c2e71cc40999b25d0b319a",
    "collapsed": true
   },
   "source": [
    "### 3. Train"
   ]
  },
  {
   "cell_type": "code",
   "execution_count": 43,
   "metadata": {
    "_uuid": "eb679a663f86cfcd737ef9413c469826c5f72a15",
    "scrolled": false
   },
   "outputs": [
    {
     "name": "stdout",
     "output_type": "stream",
     "text": [
      "Epoch 1/50\n",
      "6/6 [==============================] - 161s 27s/step - loss: 1.7531 - accuracy: 0.2273 - val_loss: 1.6448 - val_accuracy: 0.3200\n",
      "Epoch 2/50\n",
      "6/6 [==============================] - 109s 18s/step - loss: 1.6243 - accuracy: 0.3636 - val_loss: 1.4572 - val_accuracy: 0.4400\n",
      "Epoch 3/50\n",
      "6/6 [==============================] - 108s 18s/step - loss: 1.5885 - accuracy: 0.3523 - val_loss: 1.3096 - val_accuracy: 0.5200\n",
      "Epoch 4/50\n",
      "6/6 [==============================] - 113s 19s/step - loss: 1.4298 - accuracy: 0.3636 - val_loss: 1.1951 - val_accuracy: 0.4000\n",
      "Epoch 5/50\n",
      "6/6 [==============================] - 116s 19s/step - loss: 1.2650 - accuracy: 0.4773 - val_loss: 1.0856 - val_accuracy: 0.5600\n",
      "Epoch 6/50\n",
      "6/6 [==============================] - 117s 19s/step - loss: 1.3329 - accuracy: 0.4205 - val_loss: 1.1702 - val_accuracy: 0.5600\n"
     ]
    }
   ],
   "source": [
    "history = model.fit_generator(\n",
    "    train_generator,\n",
    "    #steps_per_epoch=93 // batch_size,\n",
    "    epochs=epochs,\n",
    "    validation_data=validation_generator,\n",
    "    #validation_steps=25 // batch_size, \n",
    "    callbacks=[ckpt, es]\n",
    ")"
   ]
  },
  {
   "cell_type": "code",
   "execution_count": 47,
   "metadata": {
    "_uuid": "4d0b0f3e58ae0b0901b09353d3f1b0a9db15a598"
   },
   "outputs": [
    {
     "data": {
      "image/png": "[encoded data removed]",
      "text/plain": [
       "<Figure size 864x288 with 2 Axes>"
      ]
     },
     "metadata": {
      "needs_background": "light"
     },
     "output_type": "display_data"
    }
   ],
   "source": [
    "# Get training and test loss histories\n",
    "training_loss = history.history['loss']\n",
    "training_acc = history.history['accuracy']\n",
    "\n",
    "# Create count of the number of epochs\n",
    "epoch_count = range(1, len(training_loss) + 1)\n",
    "\n",
    "fig=plt.figure(figsize=(12, 4))\n",
    "# Visualize loss history\n",
    "fig.add_subplot(121)\n",
    "plt.plot(epoch_count, training_loss, 'r--')\n",
    "plt.plot(epoch_count, training_acc, 'b-')\n",
    "plt.legend(['Training Loss', 'Training Accuracy'])\n",
    "plt.xlabel('Epoch')\n",
    "plt.ylabel('Training Loss/Acc')\n",
    "\n",
    "# Get training and test loss histories\n",
    "val_acc = history.history['val_accuracy']\n",
    "training_acc = history.history['accuracy']\n",
    "\n",
    "# Create count of the number of epochs\n",
    "epoch_count = range(1, len(val_acc) + 1)\n",
    "\n",
    "# Visualize loss history\n",
    "fig.add_subplot(122)\n",
    "plt.plot(epoch_count, val_acc, 'r--')\n",
    "plt.plot(epoch_count, training_acc, 'b-')\n",
    "plt.legend(['Validation Accuracy', 'Training Accuracy'])\n",
    "plt.xlabel('Epoch')\n",
    "plt.ylabel('Accuracy')\n",
    "\n",
    "plt.show();"
   ]
  },
  {
   "cell_type": "code",
   "execution_count": 48,
   "metadata": {
    "_uuid": "8f3d0837aed7284b7024c38f77137bbe82ad8c2f"
   },
   "outputs": [],
   "source": [
    "saveweight =  'celebriytag_weight.h5'\n",
    "model.save_weights(saveweight)"
   ]
  },
  {
   "cell_type": "markdown",
   "metadata": {
    "_uuid": "374258d36b7b06bb4a0201b87e8f82e219ccb24b"
   },
   "source": [
    "### 4. Evaluation"
   ]
  },
  {
   "cell_type": "code",
   "execution_count": 49,
   "metadata": {
    "_uuid": "ec07fed520e584354e32b5f38a27a99ce83b43be"
   },
   "outputs": [],
   "source": [
    "from keras.preprocessing import image\n",
    "import matplotlib.pyplot as plt\n",
    "import numpy as np\n",
    "from PIL import Image\n",
    "from io import BytesIO\n",
    "import cv2\n",
    "import requests\n",
    "import os"
   ]
  },
  {
   "cell_type": "code",
   "execution_count": null,
   "metadata": {
    "_uuid": "32fa9768fc8b66a9607e8e7bc406d2bd18b7b150",
    "scrolled": true
   },
   "outputs": [],
   "source": [
    "labels = ['ben_afflek',  'elton_john',  'jerry_seinfeld',  'madonna',  'mindy_kaling']\n",
    "test_imgs = ['ben_afflek/httpabsolumentgratuitfreefrimagesbenaffleckjpg.jpg']\n",
    "\n",
    "for test in test_imgs:\n",
    "    test_img = os.path.join(validation_data_dir, test)\n",
    "    img = image.load_img(test_img, target_size=(img_width, img_height))\n",
    "    x = image.img_to_array(img)\n",
    "    x = np.expand_dims(x, axis=0)\n",
    "    x /= 255.\n",
    "    classes = model.predict(x)\n",
    "    result = np.squeeze(classes)\n",
    "    result_indices = np.argmax(result)\n",
    "    \n",
    "    img = cv2.imread(test_img, cv2.IMREAD_COLOR)\n",
    "    img = cv2.cvtColor(img, cv2.COLOR_BGR2RGB)\n",
    "    plt.axis('off')\n",
    "    plt.title(\"{}, {:.2f}%\".format(labels[result_indices], result[result_indices]*100))\n",
    "    plt.imshow(img)\n",
    "    \n",
    "    #print(\"{}, {:.2f}%\".format(labels[result_indices], result[result_indices]*100))"
   ]
  },
  {
   "cell_type": "code",
   "execution_count": null,
   "metadata": {},
   "outputs": [],
   "source": []
  }
 ],
 "metadata": {
  "kernelspec": {
   "display_name": "Python 3",
   "language": "python",
   "name": "python3"
  },
  "language_info": {
   "codemirror_mode": {
    "name": "ipython",
    "version": 3
   },
   "file_extension": ".py",
   "mimetype": "text/x-python",
   "name": "python",
   "nbconvert_exporter": "python",
   "pygments_lexer": "ipython3",
   "version": "3.6.9"
  }
 },
 "nbformat": 4,
 "nbformat_minor": 1
}
